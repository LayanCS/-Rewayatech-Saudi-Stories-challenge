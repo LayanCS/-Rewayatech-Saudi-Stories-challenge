{
  "nbformat": 4,
  "nbformat_minor": 0,
  "metadata": {
    "accelerator": "GPU",
    "colab": {
      "name": "Story-Generation.ipynb",
      "provenance": [],
      "collapsed_sections": [],
      "toc_visible": true
    },
    "kernelspec": {
      "display_name": "Python 3",
      "language": "python",
      "name": "python3"
    },
    "language_info": {
      "codemirror_mode": {
        "name": "ipython",
        "version": 3
      },
      "file_extension": ".py",
      "mimetype": "text/x-python",
      "name": "python",
      "nbconvert_exporter": "python",
      "pygments_lexer": "ipython3",
      "version": "3.6.5"
    }
  },
  "cells": [
    {
      "cell_type": "markdown",
      "metadata": {
        "colab_type": "text",
        "id": "jbejfDAkNjap"
      },
      "source": [
        "This notebook is a modified version of the original code made by TensorFlow \n",
        "\n",
        "https://www.tensorflow.org/tutorials/sequences/text_generation"
      ]
    },
    {
      "cell_type": "markdown",
      "metadata": {
        "id": "r2Ox63RtBzaX",
        "colab_type": "text"
      },
      "source": [
        "Reference: Zaid Alyafeai on https://github.com/ARBML/ARBML"
      ]
    },
    {
      "cell_type": "code",
      "metadata": {
        "colab_type": "code",
        "id": "nJqlU2TswuOx",
        "colab": {}
      },
      "source": [
        "# !wget https://raw.githubusercontent.com/zaidalyafeai/ARBML/master/datasets/Poems/poems"
      ],
      "execution_count": null,
      "outputs": []
    },
    {
      "cell_type": "code",
      "metadata": {
        "id": "C5qlhNHQgh81",
        "colab_type": "code",
        "colab": {
          "base_uri": "https://localhost:8080/",
          "height": 123
        },
        "outputId": "0b3ecd4d-a138-4073-b113-1e16efc4b7d6"
      },
      "source": [
        "!git clone https://github.com/aseelad/Rewayatech-Saudi-Stories"
      ],
      "execution_count": null,
      "outputs": [
        {
          "output_type": "stream",
          "text": [
            "Cloning into 'Rewayatech-Saudi-Stories'...\n",
            "remote: Enumerating objects: 1273, done.\u001b[K\n",
            "remote: Total 1273 (delta 0), reused 0 (delta 0), pack-reused 1273\u001b[K\n",
            "Receiving objects: 100% (1273/1273), 311.33 MiB | 14.53 MiB/s, done.\n",
            "Resolving deltas: 100% (52/52), done.\n",
            "Checking out files: 100% (1270/1270), done.\n"
          ],
          "name": "stdout"
        }
      ]
    },
    {
      "cell_type": "markdown",
      "metadata": {
        "colab_type": "text",
        "id": "WGyKZj3bzf9p"
      },
      "source": [
        "### Import TensorFlow and other libraries"
      ]
    },
    {
      "cell_type": "code",
      "metadata": {
        "colab_type": "code",
        "id": "yG_n40gFzf9s",
        "colab": {}
      },
      "source": [
        "from __future__ import absolute_import, division, print_function, unicode_literals\n",
        "\n",
        "import tensorflow as tf\n",
        "# tf.enable_eager_execution()\n",
        "\n",
        "import numpy as np\n",
        "import os\n",
        "import time\n",
        "import glob"
      ],
      "execution_count": null,
      "outputs": []
    },
    {
      "cell_type": "markdown",
      "metadata": {
        "colab_type": "text",
        "id": "UHjdCjDuSvX_"
      },
      "source": [
        "### Read the data\n",
        "\n",
        "First, look in the text."
      ]
    },
    {
      "cell_type": "code",
      "metadata": {
        "id": "RUmATFU9gpMx",
        "colab_type": "code",
        "colab": {}
      },
      "source": [
        "read_files = glob.glob(\"/content/Rewayatech-Saudi-Stories/TextFiles/*.txt\")\n",
        "# i = number of stories you want to train your model on \n",
        "with open(\"result.txt\", \"wb\") as outfile:\n",
        "    for f in read_files:\n",
        "      with open(f, \"rb\") as infile:\n",
        "        outfile.write(infile.read())\n",
        "      # i -=1\n",
        "      # if i==0:\n",
        "      #   break"
      ],
      "execution_count": null,
      "outputs": []
    },
    {
      "cell_type": "code",
      "metadata": {
        "colab_type": "code",
        "id": "aavnuByVymwK",
        "colab": {
          "base_uri": "https://localhost:8080/",
          "height": 52
        },
        "outputId": "fe190a59-e900-4093-d23f-6170b7c3cd7f"
      },
      "source": [
        "# Read, then decode for py2 compat.\n",
        "text = open('result.txt', 'rb').read().decode(encoding='utf-8', errors='ignore')\n",
        "  \n",
        "# length of text is the number of characters in it\n",
        "print ('Length of text: {} characters'.format(len(text)))\n",
        "\n",
        "# remove some exteranous chars \n",
        "execluded = '!()*-.1:=[]«»;؛,،~?؟#\\u200f\\ufeff'\n",
        "out = \"\"\n",
        "\n",
        "\n",
        "for char in text:\n",
        "  if char not in execluded:\n",
        "    out += char\n",
        "text = out\n",
        "text = text.replace(\"\\t\\t\\t\", \"\\t\")\n",
        "text = text.replace(\"\\r\\r\\n\", \"\\n\")\n",
        "text = text.replace(\"\\r\\n\",\"\\n\")\n",
        "text = text.replace(\"\\t\\n\", \"\\n\")\n",
        "text = text.replace('[A-Z a-z]',' ')\n",
        "\n",
        "vocab = sorted(set(text))\n",
        "print ('{} unique characters'.format(len(vocab)))"
      ],
      "execution_count": null,
      "outputs": [
        {
          "output_type": "stream",
          "text": [
            "Length of text: 7633968 characters\n",
            "215 unique characters\n"
          ],
          "name": "stdout"
        }
      ]
    },
    {
      "cell_type": "code",
      "metadata": {
        "colab_type": "code",
        "id": "Duhg9NrUymwO",
        "colab": {
          "base_uri": "https://localhost:8080/",
          "height": 143
        },
        "outputId": "ef643ef3-a339-4b43-f0aa-c4c487019fe6"
      },
      "source": [
        "# Take a look at the first 250 characters in text\n",
        "print(text[:250])"
      ],
      "execution_count": null,
      "outputs": [
        {
          "output_type": "stream",
          "text": [
            "\n",
            " بريطانيا  جامعة كامبريدج\n",
            " ممر من ممرات الجامعة \n",
            "\n",
            "بدر  زين كلمي امج قوليلها تسوي مقدمات حق ابوج وبالعطله بحيل الله نروح الكويت واطلبج منهم ونرجع اهني نكمل الدراسه واحنا متزوجين وبشقتنا وتطلعين من مغثة السكن\n",
            "روان  لا بدر والله لو قلت حق امي او حتى لم\n"
          ],
          "name": "stdout"
        }
      ]
    },
    {
      "cell_type": "markdown",
      "metadata": {
        "colab_type": "text",
        "id": "rNnrKn_lL-IJ"
      },
      "source": [
        "## Process the text"
      ]
    },
    {
      "cell_type": "markdown",
      "metadata": {
        "colab_type": "text",
        "id": "LFjSVAlWzf-N"
      },
      "source": [
        "### Vectorize the text\n",
        "\n",
        "Before training, we need to map strings to a numerical representation. Create two lookup tables: one mapping characters to numbers, and another for numbers to characters."
      ]
    },
    {
      "cell_type": "code",
      "metadata": {
        "colab_type": "code",
        "id": "IalZLbvOzf-F",
        "colab": {}
      },
      "source": [
        "# Creating a mapping from unique characters to indices\n",
        "char2idx = {u:i for i, u in enumerate(vocab)}\n",
        "idx2char = np.array(vocab)\n",
        "\n",
        "text_as_int = np.array([char2idx[c] for c in text])"
      ],
      "execution_count": null,
      "outputs": []
    },
    {
      "cell_type": "markdown",
      "metadata": {
        "colab_type": "text",
        "id": "tZfqhkYCymwX"
      },
      "source": [
        "Now we have an integer representation for each character. Notice that we mapped the character as indexes from 0 to `len(unique)`."
      ]
    },
    {
      "cell_type": "code",
      "metadata": {
        "colab_type": "code",
        "id": "FYyNlCNXymwY",
        "colab": {
          "base_uri": "https://localhost:8080/",
          "height": 425
        },
        "outputId": "4a311991-e062-4a1b-b0da-66fb77e9f0e4"
      },
      "source": [
        "print('{')\n",
        "for char,_ in zip(char2idx, range(20)):\n",
        "    print('  {:4s}: {:3d},'.format(repr(char), char2idx[char]))\n",
        "print('  ...\\n}')"
      ],
      "execution_count": null,
      "outputs": [
        {
          "output_type": "stream",
          "text": [
            "{\n",
            "  '\\t':   0,\n",
            "  '\\n':   1,\n",
            "  ' ' :   2,\n",
            "  '\"' :   3,\n",
            "  '$' :   4,\n",
            "  '%' :   5,\n",
            "  '&' :   6,\n",
            "  \"'\" :   7,\n",
            "  '+' :   8,\n",
            "  '/' :   9,\n",
            "  '0' :  10,\n",
            "  '2' :  11,\n",
            "  '3' :  12,\n",
            "  '4' :  13,\n",
            "  '5' :  14,\n",
            "  '6' :  15,\n",
            "  '7' :  16,\n",
            "  '8' :  17,\n",
            "  '9' :  18,\n",
            "  '<' :  19,\n",
            "  ...\n",
            "}\n"
          ],
          "name": "stdout"
        }
      ]
    },
    {
      "cell_type": "code",
      "metadata": {
        "colab_type": "code",
        "id": "l1VKcQHcymwb",
        "colab": {
          "base_uri": "https://localhost:8080/",
          "height": 34
        },
        "outputId": "16330743-80c1-4ddf-b8e7-e317dd0765cb"
      },
      "source": [
        "# Show how the first 13 characters from the text are mapped to integers\n",
        "print ('{} ---- characters mapped to int ---- > {}'.format(repr(text[:13]), text_as_int[:13]))"
      ],
      "execution_count": null,
      "outputs": [
        {
          "output_type": "stream",
          "text": [
            "'\\n بريطانيا  ج' ---- characters mapped to int ---- > [  1   2 107 116 136 122 106 132 136 106   2   2 111]\n"
          ],
          "name": "stdout"
        }
      ]
    },
    {
      "cell_type": "markdown",
      "metadata": {
        "colab_type": "text",
        "id": "bbmsf23Bymwe"
      },
      "source": [
        "### The prediction task"
      ]
    },
    {
      "cell_type": "markdown",
      "metadata": {
        "colab_type": "text",
        "id": "wssHQ1oGymwe"
      },
      "source": [
        "Given a character, or a sequence of characters, what is the most probable next character? This is the task we're training the model to perform. The input to the model will be a sequence of characters, and we train the model to predict the output—the following character at each time step.\n",
        "\n",
        "Since RNNs maintain an internal state that depends on the previously seen elements, given all the characters computed until this moment, what is the next character?\n"
      ]
    },
    {
      "cell_type": "markdown",
      "metadata": {
        "colab_type": "text",
        "id": "hgsVvVxnymwf"
      },
      "source": [
        "### Create training examples and targets\n",
        "\n",
        "Next divide the text into example sequences. Each input sequence will contain `seq_length` characters from the text.\n",
        "\n",
        "For each input sequence, the corresponding targets contain the same length of text, except shifted one character to the right.\n",
        "\n",
        "So break the text into chunks of `seq_length+1`. For example, say `seq_length` is 4 and our text is \"Hello\". The input sequence would be \"Hell\", and the target sequence \"ello\".\n",
        "\n",
        "To do this first use the `tf.data.Dataset.from_tensor_slices` function to convert the text vector into a stream of character indices."
      ]
    },
    {
      "cell_type": "code",
      "metadata": {
        "colab_type": "code",
        "id": "0UHJDA39zf-O",
        "colab": {
          "base_uri": "https://localhost:8080/",
          "height": 123
        },
        "outputId": "19f4be5b-c682-4d4e-f575-c33f0929ffaf"
      },
      "source": [
        "# The maximum length sentence we want for a single input in characters\n",
        "seq_length = 200 # 200\n",
        "examples_per_epoch = len(text)//seq_length\n",
        "\n",
        "# Create training examples / targets\n",
        "char_dataset = tf.data.Dataset.from_tensor_slices(text_as_int)\n",
        "\n",
        "for i in char_dataset.take(5):\n",
        "  print(idx2char[i.numpy()])"
      ],
      "execution_count": null,
      "outputs": [
        {
          "output_type": "stream",
          "text": [
            "\n",
            "\n",
            " \n",
            "ب\n",
            "ر\n",
            "ي\n"
          ],
          "name": "stdout"
        }
      ]
    },
    {
      "cell_type": "markdown",
      "metadata": {
        "colab_type": "text",
        "id": "-ZSYAcQV8OGP"
      },
      "source": [
        "The `batch` method lets us easily convert these individual characters to sequences of the desired size."
      ]
    },
    {
      "cell_type": "code",
      "metadata": {
        "colab_type": "code",
        "id": "l4hkDU3i7ozi",
        "colab": {
          "base_uri": "https://localhost:8080/",
          "height": 125
        },
        "outputId": "6ec6800e-cca7-411f-c9d7-1a956b427a0f"
      },
      "source": [
        "sequences = char_dataset.batch(seq_length+1, drop_remainder=True)\n",
        "\n",
        "for item in sequences.take(5):\n",
        "  print(repr(''.join(idx2char[item.numpy()])))"
      ],
      "execution_count": null,
      "outputs": [
        {
          "output_type": "stream",
          "text": [
            "'\\n بريطانيا  جامعة كامبريدج\\n ممر من ممرات الجامعة \\n\\nبدر  زين كلمي امج قوليلها تسوي مقدمات حق ابوج وبالعطله بحيل الله نروح الكويت واطلبج منهم ونرجع اهني نكمل الدراسه واحنا متزوجين وبشقتنا وتطلعين من مغثة'\n",
            "' السكن\\nروان  لا بدر والله لو قلت حق امي او حتى لمحت لها بتحط في بالها اشياء انا في غنى عنها  خل نرجع وانت قول شفتني اهني وخطبتني عادي  مابي المح لها\\n\\nMatt \\n يركض ياي لهم  wait Bad I wanna talk to you\\n/'\n",
            "'/مات  لحظه باد انطر بكلمك//\\n\\nبدر \\nwhy do you insists on make me a bad person for thousand time  my name is Bader  not bad\\n//بدر  انت ليش مصر انك تطلعني انسان سيء للمرة الألف اسمي بدر مو باد//\\n\\nروان   ت'\n",
            "'ظحك  قاعد يدلعك اشفيك\\nMatt \\ncome on  Bad\\n//مات  يللا عاد باد//\\n\\nبدر \\nIf you know the meaning of your name in my language you will be miserable\\n//بدر بس لو عرفت معنى اسمك عندنا جان صرت تعيس//\\n\\nروان   تظ'\n",
            "'حك  اي والله مسكين من اول ما انولد مات\\n\\nMatt \\nplease talk in English\\n//مات  تكلمي انجليزي لو سمحتي//\\n\\nبدر \\nMy fiancee talk in any language she want  Ok\\n//بدر  خطيبتي تتكلم بأي لغة تبيها فاهم//\\n\\nMatt \\no'\n"
          ],
          "name": "stdout"
        }
      ]
    },
    {
      "cell_type": "markdown",
      "metadata": {
        "colab_type": "text",
        "id": "UbLcIPBj_mWZ"
      },
      "source": [
        "For each sequence, duplicate and shift it to form the input and target text by using the `map` method to apply a simple function to each batch:"
      ]
    },
    {
      "cell_type": "code",
      "metadata": {
        "colab_type": "code",
        "id": "9NGu-FkO_kYU",
        "colab": {}
      },
      "source": [
        "def split_input_target(chunk):\n",
        "    input_text = chunk[:-1]\n",
        "    target_text = chunk[1:]\n",
        "    return input_text, target_text\n",
        "\n",
        "dataset = sequences.map(split_input_target)"
      ],
      "execution_count": null,
      "outputs": []
    },
    {
      "cell_type": "markdown",
      "metadata": {
        "colab_type": "text",
        "id": "hiCopyGZymwi"
      },
      "source": [
        "Print the first examples input and target values:"
      ]
    },
    {
      "cell_type": "code",
      "metadata": {
        "colab_type": "code",
        "id": "GNbw-iR0ymwj",
        "colab": {
          "base_uri": "https://localhost:8080/",
          "height": 72
        },
        "outputId": "fd68d2ae-a86f-416c-bc43-ca5bcbca6cf9"
      },
      "source": [
        "for input_example, target_example in  dataset.take(1):\n",
        "  print ('Input data: ', repr(''.join(idx2char[input_example.numpy()])))\n",
        "  print ('Target data:', repr(''.join(idx2char[target_example.numpy()])))"
      ],
      "execution_count": null,
      "outputs": [
        {
          "output_type": "stream",
          "text": [
            "Input data:  '\\n بريطانيا  جامعة كامبريدج\\n ممر من ممرات الجامعة \\n\\nبدر  زين كلمي امج قوليلها تسوي مقدمات حق ابوج وبالعطله بحيل الله نروح الكويت واطلبج منهم ونرجع اهني نكمل الدراسه واحنا متزوجين وبشقتنا وتطلعين من مغث'\n",
            "Target data: ' بريطانيا  جامعة كامبريدج\\n ممر من ممرات الجامعة \\n\\nبدر  زين كلمي امج قوليلها تسوي مقدمات حق ابوج وبالعطله بحيل الله نروح الكويت واطلبج منهم ونرجع اهني نكمل الدراسه واحنا متزوجين وبشقتنا وتطلعين من مغثة'\n"
          ],
          "name": "stdout"
        }
      ]
    },
    {
      "cell_type": "markdown",
      "metadata": {
        "colab_type": "text",
        "id": "_33OHL3b84i0"
      },
      "source": [
        "Each index of these vectors are processed as one time step. For the input at time step 0, the model receives the index for \"F\" and tries to predict the index for \"i\" as the next character. At the next timestep, it does the same thing but the `RNN` considers the previous step context in addition to the current input character."
      ]
    },
    {
      "cell_type": "code",
      "metadata": {
        "colab_type": "code",
        "id": "0eBu9WZG84i0",
        "colab": {
          "base_uri": "https://localhost:8080/",
          "height": 283
        },
        "outputId": "e7b3349d-2a80-44b9-ecdf-a7b7e58ec70c"
      },
      "source": [
        "for i, (input_idx, target_idx) in enumerate(zip(input_example[:5], target_example[:5])):\n",
        "    print(\"Step {:4d}\".format(i))\n",
        "    print(\"  input: {} ({:s})\".format(input_idx, repr(idx2char[input_idx])))\n",
        "    print(\"  expected output: {} ({:s})\".format(target_idx, repr(idx2char[target_idx])))"
      ],
      "execution_count": null,
      "outputs": [
        {
          "output_type": "stream",
          "text": [
            "Step    0\n",
            "  input: 1 ('\\n')\n",
            "  expected output: 2 (' ')\n",
            "Step    1\n",
            "  input: 2 (' ')\n",
            "  expected output: 107 ('ب')\n",
            "Step    2\n",
            "  input: 107 ('ب')\n",
            "  expected output: 116 ('ر')\n",
            "Step    3\n",
            "  input: 116 ('ر')\n",
            "  expected output: 136 ('ي')\n",
            "Step    4\n",
            "  input: 136 ('ي')\n",
            "  expected output: 122 ('ط')\n"
          ],
          "name": "stdout"
        }
      ]
    },
    {
      "cell_type": "markdown",
      "metadata": {
        "colab_type": "text",
        "id": "MJdfPmdqzf-R"
      },
      "source": [
        "### Create training batches\n",
        "\n",
        "We used `tf.data` to split the text into manageable sequences. But before feeding this data into the model, we need to shuffle the data and pack it into batches."
      ]
    },
    {
      "cell_type": "code",
      "metadata": {
        "colab_type": "code",
        "id": "p2pGotuNzf-S",
        "colab": {
          "base_uri": "https://localhost:8080/",
          "height": 34
        },
        "outputId": "576df232-8f22-465c-fc5f-14eddf99cd79"
      },
      "source": [
        "# Batch size\n",
        "BATCH_SIZE = 128\n",
        "steps_per_epoch = examples_per_epoch//BATCH_SIZE\n",
        "\n",
        "# Buffer size to shuffle the dataset\n",
        "# (TF data is designed to work with possibly infinite sequences,\n",
        "# so it doesn't attempt to shuffle the entire sequence in memory. Instead,\n",
        "# it maintains a buffer in which it shuffles elements).\n",
        "BUFFER_SIZE = 10000\n",
        "\n",
        "dataset = dataset.shuffle(BUFFER_SIZE).batch(BATCH_SIZE, drop_remainder=True)\n",
        "\n",
        "dataset"
      ],
      "execution_count": null,
      "outputs": [
        {
          "output_type": "execute_result",
          "data": {
            "text/plain": [
              "<BatchDataset shapes: ((128, 200), (128, 200)), types: (tf.int64, tf.int64)>"
            ]
          },
          "metadata": {
            "tags": []
          },
          "execution_count": 167
        }
      ]
    },
    {
      "cell_type": "markdown",
      "metadata": {
        "colab_type": "text",
        "id": "r6oUuElIMgVx"
      },
      "source": [
        "## Build The Model"
      ]
    },
    {
      "cell_type": "markdown",
      "metadata": {
        "colab_type": "text",
        "id": "m8gPwEjRzf-Z"
      },
      "source": [
        "Use `tf.keras.Sequential` to define the model. For this simple example three layers are used to define our model:\n",
        "\n",
        "* `tf.keras.layers.Embedding`: The input layer. A trainable lookup table that will map the numbers of each character to a vector with `embedding_dim` dimensions;\n",
        "* `tf.keras.layers.GRU`: A type of RNN with size `units=rnn_units` (You can also use a LSTM layer here.)\n",
        "* `tf.keras.layers.Dense`: The output layer, with `vocab_size` outputs."
      ]
    },
    {
      "cell_type": "code",
      "metadata": {
        "colab_type": "code",
        "id": "zHT8cLh7EAsg",
        "colab": {}
      },
      "source": [
        "# Length of the vocabulary in chars\n",
        "vocab_size = len(vocab)\n",
        "\n",
        "# The embedding dimension\n",
        "embedding_dim = 256\n",
        "\n",
        "# Number of RNN units\n",
        "rnn_units = 1024"
      ],
      "execution_count": null,
      "outputs": []
    },
    {
      "cell_type": "markdown",
      "metadata": {
        "colab_type": "text",
        "id": "NNVB-jmMEOzP"
      },
      "source": [
        "Next define a function to build the model."
      ]
    },
    {
      "cell_type": "code",
      "metadata": {
        "colab_type": "code",
        "id": "MtCrdfzEI2N0",
        "colab": {}
      },
      "source": [
        "\n",
        "def build_model(vocab_size, embedding_dim, rnn_units, batch_size):\n",
        "  model = tf.keras.Sequential([\n",
        "    tf.keras.layers.Embedding(vocab_size, embedding_dim,\n",
        "                              batch_input_shape=[batch_size, None]),\n",
        "    tf.keras.layers.GRU(rnn_units,\n",
        "        return_sequences=True,\n",
        "        recurrent_initializer='glorot_uniform',\n",
        "        stateful=True),\n",
        "    tf.keras.layers.Dense(vocab_size)\n",
        "  ])\n",
        "  return model"
      ],
      "execution_count": null,
      "outputs": []
    },
    {
      "cell_type": "code",
      "metadata": {
        "colab_type": "code",
        "id": "wwsrpOik5zhv",
        "colab": {
          "base_uri": "https://localhost:8080/",
          "height": 374
        },
        "outputId": "7e8eb569-b13e-4fd6-ceb6-fbe50cf67e19"
      },
      "source": [
        "model = build_model(\n",
        "  vocab_size = len(vocab),\n",
        "  embedding_dim=embedding_dim,\n",
        "  rnn_units=rnn_units,\n",
        "  batch_size=BATCH_SIZE)"
      ],
      "execution_count": null,
      "outputs": [
        {
          "output_type": "stream",
          "text": [
            "WARNING:tensorflow:Unresolved object in checkpoint: (root).optimizer\n",
            "WARNING:tensorflow:Unresolved object in checkpoint: (root).optimizer.iter\n",
            "WARNING:tensorflow:Unresolved object in checkpoint: (root).optimizer.beta_1\n",
            "WARNING:tensorflow:Unresolved object in checkpoint: (root).optimizer.beta_2\n",
            "WARNING:tensorflow:Unresolved object in checkpoint: (root).optimizer.decay\n",
            "WARNING:tensorflow:Unresolved object in checkpoint: (root).optimizer.learning_rate\n",
            "WARNING:tensorflow:Unresolved object in checkpoint: (root).optimizer's state 'm' for (root).layer_with_weights-0.embeddings\n",
            "WARNING:tensorflow:Unresolved object in checkpoint: (root).optimizer's state 'm' for (root).layer_with_weights-2.kernel\n",
            "WARNING:tensorflow:Unresolved object in checkpoint: (root).optimizer's state 'm' for (root).layer_with_weights-2.bias\n",
            "WARNING:tensorflow:Unresolved object in checkpoint: (root).optimizer's state 'm' for (root).layer_with_weights-1.cell.kernel\n",
            "WARNING:tensorflow:Unresolved object in checkpoint: (root).optimizer's state 'm' for (root).layer_with_weights-1.cell.recurrent_kernel\n",
            "WARNING:tensorflow:Unresolved object in checkpoint: (root).optimizer's state 'm' for (root).layer_with_weights-1.cell.bias\n",
            "WARNING:tensorflow:Unresolved object in checkpoint: (root).optimizer's state 'v' for (root).layer_with_weights-0.embeddings\n",
            "WARNING:tensorflow:Unresolved object in checkpoint: (root).optimizer's state 'v' for (root).layer_with_weights-2.kernel\n",
            "WARNING:tensorflow:Unresolved object in checkpoint: (root).optimizer's state 'v' for (root).layer_with_weights-2.bias\n",
            "WARNING:tensorflow:Unresolved object in checkpoint: (root).optimizer's state 'v' for (root).layer_with_weights-1.cell.kernel\n",
            "WARNING:tensorflow:Unresolved object in checkpoint: (root).optimizer's state 'v' for (root).layer_with_weights-1.cell.recurrent_kernel\n",
            "WARNING:tensorflow:Unresolved object in checkpoint: (root).optimizer's state 'v' for (root).layer_with_weights-1.cell.bias\n",
            "WARNING:tensorflow:A checkpoint was restored (e.g. tf.train.Checkpoint.restore or tf.keras.Model.load_weights) but not all checkpointed values were used. See above for specific issues. Use expect_partial() on the load status object, e.g. tf.train.Checkpoint.restore(...).expect_partial(), to silence these warnings, or use assert_consumed() to make the check explicit. See https://www.tensorflow.org/guide/checkpoint#loading_mechanics for details.\n"
          ],
          "name": "stdout"
        }
      ]
    },
    {
      "cell_type": "markdown",
      "metadata": {
        "colab_type": "text",
        "id": "RkA5upJIJ7W7"
      },
      "source": [
        "For each character the model looks up the embedding, runs the GRU one timestep with the embedding as input, and applies the dense layer to generate logits predicting the log-liklihood of the next character:\n",
        "\n",
        "![A drawing of the data passing through the model](https://tensorflow.org/tutorials/sequences/images/text_generation_training.png)"
      ]
    },
    {
      "cell_type": "markdown",
      "metadata": {
        "colab_type": "text",
        "id": "-ubPo0_9Prjb"
      },
      "source": [
        "## Try the model\n",
        "\n",
        "Now run the model to see that it behaves as expected.\n",
        "\n",
        "First check the shape of the output:"
      ]
    },
    {
      "cell_type": "code",
      "metadata": {
        "colab_type": "code",
        "id": "C-_70kKAPrPU",
        "colab": {
          "base_uri": "https://localhost:8080/",
          "height": 34
        },
        "outputId": "042cd539-64a7-45d1-e995-5be5dcacc950"
      },
      "source": [
        "for input_example_batch, target_example_batch in dataset.take(1):\n",
        "  example_batch_predictions = model(input_example_batch)\n",
        "  print(example_batch_predictions.shape, \"# (batch_size, sequence_length, vocab_size)\")"
      ],
      "execution_count": null,
      "outputs": [
        {
          "output_type": "stream",
          "text": [
            "(128, 200, 215) # (batch_size, sequence_length, vocab_size)\n"
          ],
          "name": "stdout"
        }
      ]
    },
    {
      "cell_type": "markdown",
      "metadata": {
        "colab_type": "text",
        "id": "Q6NzLBi4VM4o"
      },
      "source": [
        "In the above example the sequence length of the input is `100` but the model can be run on inputs of any length:"
      ]
    },
    {
      "cell_type": "code",
      "metadata": {
        "colab_type": "code",
        "id": "vPGmAAXmVLGC",
        "colab": {
          "base_uri": "https://localhost:8080/",
          "height": 265
        },
        "outputId": "34f6acf4-c265-4a9e-ef81-ac4cd0898280"
      },
      "source": [
        "model.summary()"
      ],
      "execution_count": null,
      "outputs": [
        {
          "output_type": "stream",
          "text": [
            "Model: \"sequential_7\"\n",
            "_________________________________________________________________\n",
            "Layer (type)                 Output Shape              Param #   \n",
            "=================================================================\n",
            "embedding_7 (Embedding)      (128, None, 256)          55040     \n",
            "_________________________________________________________________\n",
            "gru_7 (GRU)                  (128, None, 1024)         3938304   \n",
            "_________________________________________________________________\n",
            "dense_7 (Dense)              (128, None, 215)          220375    \n",
            "=================================================================\n",
            "Total params: 4,213,719\n",
            "Trainable params: 4,213,719\n",
            "Non-trainable params: 0\n",
            "_________________________________________________________________\n"
          ],
          "name": "stdout"
        }
      ]
    },
    {
      "cell_type": "markdown",
      "metadata": {
        "colab_type": "text",
        "id": "uwv0gEkURfx1"
      },
      "source": [
        "To get actual predictions from the model we need to sample from the output distribution, to get actual character indices. This distribution is defined by the logits over the character vocabulary.\n",
        "\n",
        "Note: It is important to _sample_ from this distribution as taking the _argmax_ of the distribution can easily get the model stuck in a loop.\n",
        "\n",
        "Try it for the first example in the batch:"
      ]
    },
    {
      "cell_type": "code",
      "metadata": {
        "colab_type": "code",
        "id": "4V4MfFg0RQJg",
        "colab": {}
      },
      "source": [
        "sampled_indices = tf.random.categorical(example_batch_predictions[0], num_samples=1)\n",
        "sampled_indices = tf.squeeze(sampled_indices,axis=-1).numpy()"
      ],
      "execution_count": null,
      "outputs": []
    },
    {
      "cell_type": "markdown",
      "metadata": {
        "colab_type": "text",
        "id": "QM1Vbxs_URw5"
      },
      "source": [
        "This gives us, at each timestep, a prediction of the next character index:"
      ]
    },
    {
      "cell_type": "code",
      "metadata": {
        "colab_type": "code",
        "id": "YqFMUQc_UFgM",
        "colab": {
          "base_uri": "https://localhost:8080/",
          "height": 318
        },
        "outputId": "7df6a208-8026-4c60-d8ce-29d7dfa64604"
      },
      "source": [
        "print(len(sampled_indices))\n",
        "sampled_indices"
      ],
      "execution_count": null,
      "outputs": [
        {
          "output_type": "stream",
          "text": [
            "200\n"
          ],
          "name": "stdout"
        },
        {
          "output_type": "execute_result",
          "data": {
            "text/plain": [
              "array([111, 107, 156,  73, 196, 212,  62, 152, 172, 112,  94,   0,  18,\n",
              "       113, 171, 214,  98, 158,  37,  89,  64,  83, 207, 153, 203, 116,\n",
              "       101, 183, 179,  94,  34,  24, 128, 122, 107,  65,   0, 182, 210,\n",
              "        89, 153,  63, 166,  99, 117, 135, 172,  19,  34, 175, 200,  94,\n",
              "       127, 120,  62, 206,  25,  67,  25,  46, 135, 110, 172, 152,  76,\n",
              "        85,  87, 157,  14,  36,  85,  97, 149, 146, 209,  11,  36,  62,\n",
              "        78, 203,  76, 157,  47, 187,  23, 183,  43,  43, 175, 142,  21,\n",
              "       155, 116, 178,  50,  66, 103, 176,  84,  18, 140,  25, 135, 112,\n",
              "        80, 135,  89, 129,  46,  26,  36, 181, 114,  75,  74,  91, 163,\n",
              "       189,  75, 157, 207, 171,  54,  57, 102, 146, 103, 145,  77,  32,\n",
              "        84,  88,   0,  26,  69,  61, 191, 184,  76, 193,  30, 128,  45,\n",
              "       139,  79,  39,  44, 173, 105, 197, 181,  51, 181, 149,  69, 182,\n",
              "       191,   3, 164, 197, 186, 190,  18,  48,  50, 184,  46, 161,  84,\n",
              "         0,   8,  95, 171,  74,  83, 199, 119,   4, 125,   3, 191,  46,\n",
              "       212, 103,  50,  29,  73,  58,  94, 178, 207, 135,  46,  14,  42,\n",
              "       114,   5, 159,  10, 149])"
            ]
          },
          "metadata": {
            "tags": []
          },
          "execution_count": 174
        }
      ]
    },
    {
      "cell_type": "markdown",
      "metadata": {
        "colab_type": "text",
        "id": "LfLtsP3mUhCG"
      },
      "source": [
        "Decode these to see the text predicted by this untrained model:"
      ]
    },
    {
      "cell_type": "code",
      "metadata": {
        "colab_type": "code",
        "id": "xWcFwPwLSo05",
        "colab": {
          "base_uri": "https://localhost:8080/",
          "height": 125
        },
        "outputId": "f0ae19f9-9bc9-43eb-b120-6daa515d0ea3"
      },
      "source": [
        "print(\"Input: \\n\", repr(\"\".join(idx2char[input_example_batch[0].numpy()])))\n",
        "print()\n",
        "print(\"Next Char Predictions: \\n\", repr(\"\".join(idx2char[sampled_indices ])))"
      ],
      "execution_count": null,
      "outputs": [
        {
          "output_type": "stream",
          "text": [
            "Input: \n",
            " 'توا الغداءتراني جويعان\\nابتسام\\\\وانت لازالت متمسك بهالمصطلح\\nالوليد رفع حاجب بغرور\\\\منقهره الأخت\\nابتسام كتفت ايدنيها بضجر\\\\على ايش ياحظـي\\nالوليد\\\\اعترفي اني اجمل منك\\nطنشته ابتسام وطلعت فوق وهي منقهره شوي من'\n",
            "\n",
            "Next Char Predictions: \n",
            " 'جبگzﺂﻣnړ—ح̶\\t9خ–ﻳιڼR̄pàﻋڕﺧرآ▪€̶NCقطبr\\t≈ﻗ̄ڕoۋוزى—<N•ﺗ̶فصnﻁDtD^ىث—ړ}÷ˇڳ5P÷͠ٺ٭ﻓ2Pn¨ﺧ}ڳ_♫B▪YY•ِ@ڪر›bsؤ…ê9َDىح°ى̄ك^EP∞د|{̚ۆ\\uf04c|ڳﻋ–fiأ٭ؤٓ¦Lê˛\\tEvmﮔ♠}ﮪIق\\\\ٍ©TZ‘ئﺈ∞c∞ٺv≈ﮔ\"ۈﺈ♥ﭑ9`b♠^ۂê\\t+̷–{àﺑش$غ\"ﮔ^ﻣؤbHzj̶›ﻋى^5Wد%ھ0ٺ'\n"
          ],
          "name": "stdout"
        }
      ]
    },
    {
      "cell_type": "markdown",
      "metadata": {
        "colab_type": "text",
        "id": "LJL0Q0YPY6Ee"
      },
      "source": [
        "## Train the model"
      ]
    },
    {
      "cell_type": "markdown",
      "metadata": {
        "colab_type": "text",
        "id": "YCbHQHiaa4Ic"
      },
      "source": [
        "At this point the problem can be treated as a standard classification problem. Given the previous RNN state, and the input this time step, predict the class of the next character."
      ]
    },
    {
      "cell_type": "markdown",
      "metadata": {
        "colab_type": "text",
        "id": "trpqTWyvk0nr"
      },
      "source": [
        "### Attach an optimizer, and a loss function"
      ]
    },
    {
      "cell_type": "markdown",
      "metadata": {
        "colab_type": "text",
        "id": "UAjbjY03eiQ4"
      },
      "source": [
        "The standard `tf.keras.losses.sparse_softmax_crossentropy` loss function works in this case because it is applied across the last dimension of the predictions.\n",
        "\n",
        "Because our model returns logits, we need to set the `from_logits` flag.\n"
      ]
    },
    {
      "cell_type": "code",
      "metadata": {
        "colab_type": "code",
        "id": "4HrXTACTdzY-",
        "colab": {
          "base_uri": "https://localhost:8080/",
          "height": 52
        },
        "outputId": "fd99d3c9-8064-4708-f104-a02c6b572e64"
      },
      "source": [
        "def loss(labels, logits):\n",
        "  return tf.keras.losses.sparse_categorical_crossentropy(labels, logits, from_logits=True)\n",
        "\n",
        "example_batch_loss  = loss(target_example_batch, example_batch_predictions)\n",
        "print(\"Prediction shape: \", example_batch_predictions.shape, \" # (batch_size, sequence_length, vocab_size)\")\n",
        "print(\"scalar_loss:      \", example_batch_loss.numpy().mean())"
      ],
      "execution_count": null,
      "outputs": [
        {
          "output_type": "stream",
          "text": [
            "Prediction shape:  (128, 200, 215)  # (batch_size, sequence_length, vocab_size)\n",
            "scalar_loss:       5.3708234\n"
          ],
          "name": "stdout"
        }
      ]
    },
    {
      "cell_type": "markdown",
      "metadata": {
        "colab_type": "text",
        "id": "jeOXriLcymww"
      },
      "source": [
        "Configure the training procedure using the `tf.keras.Model.compile` method. We'll use `tf.train.AdamOptimizer` with default arguments and the loss function."
      ]
    },
    {
      "cell_type": "code",
      "metadata": {
        "colab_type": "code",
        "id": "DDl1_Een6rL0",
        "colab": {}
      },
      "source": [
        "model.compile(\n",
        "    optimizer = tf.optimizers.Adam(),\n",
        "    loss = loss)"
      ],
      "execution_count": null,
      "outputs": []
    },
    {
      "cell_type": "markdown",
      "metadata": {
        "colab_type": "text",
        "id": "ieSJdchZggUj"
      },
      "source": [
        "### Configure checkpoints"
      ]
    },
    {
      "cell_type": "markdown",
      "metadata": {
        "colab_type": "text",
        "id": "C6XBUUavgF56"
      },
      "source": [
        "Use a `tf.keras.callbacks.ModelCheckpoint` to ensure that checkpoints are saved during training:"
      ]
    },
    {
      "cell_type": "code",
      "metadata": {
        "colab_type": "code",
        "id": "W6fWTriUZP-n",
        "colab": {}
      },
      "source": [
        "# Directory where the checkpoints will be saved\n",
        "checkpoint_dir = './training_checkpoints'\n",
        "# Name of the checkpoint files\n",
        "checkpoint_prefix = os.path.join(checkpoint_dir, \"ckpt_{epoch}\")\n",
        "\n",
        "checkpoint_callback=tf.keras.callbacks.ModelCheckpoint(\n",
        "    filepath=checkpoint_prefix,\n",
        "    save_weights_only=True)"
      ],
      "execution_count": null,
      "outputs": []
    },
    {
      "cell_type": "markdown",
      "metadata": {
        "colab_type": "text",
        "id": "3Ky3F_BhgkTW"
      },
      "source": [
        "### Execute the training"
      ]
    },
    {
      "cell_type": "markdown",
      "metadata": {
        "colab_type": "text",
        "id": "IxdOA-rgyGvs"
      },
      "source": [
        "To keep training time reasonable, use 3 epochs to train the model. In Colab, set the runtime to GPU for faster training."
      ]
    },
    {
      "cell_type": "code",
      "metadata": {
        "colab_type": "code",
        "id": "7yGBE2zxMMHs",
        "colab": {}
      },
      "source": [
        "EPOCHS=6"
      ],
      "execution_count": null,
      "outputs": []
    },
    {
      "cell_type": "code",
      "metadata": {
        "colab_type": "code",
        "id": "UK-hmKjYVoll",
        "colab": {
          "base_uri": "https://localhost:8080/",
          "height": 230
        },
        "outputId": "859be343-2f3b-485d-ce85-cbe54f4e03e5"
      },
      "source": [
        "history = model.fit(dataset.repeat(), epochs=EPOCHS, steps_per_epoch=steps_per_epoch,\n",
        "                    callbacks=[checkpoint_callback])"
      ],
      "execution_count": null,
      "outputs": [
        {
          "output_type": "stream",
          "text": [
            "Epoch 1/6\n",
            "269/269 [==============================] - 116s 432ms/step - loss: 2.7599\n",
            "Epoch 2/6\n",
            "269/269 [==============================] - 117s 434ms/step - loss: 2.0925\n",
            "Epoch 3/6\n",
            "269/269 [==============================] - 117s 434ms/step - loss: 1.8285\n",
            "Epoch 4/6\n",
            "269/269 [==============================] - 117s 434ms/step - loss: 1.7167\n",
            "Epoch 5/6\n",
            "269/269 [==============================] - 117s 434ms/step - loss: 1.6508\n",
            "Epoch 6/6\n",
            "269/269 [==============================] - 117s 434ms/step - loss: 1.6032\n"
          ],
          "name": "stdout"
        }
      ]
    },
    {
      "cell_type": "markdown",
      "metadata": {
        "colab_type": "text",
        "id": "kKkD5M6eoSiN"
      },
      "source": [
        "## Generate text"
      ]
    },
    {
      "cell_type": "markdown",
      "metadata": {
        "colab_type": "text",
        "id": "JIPcXllKjkdr"
      },
      "source": [
        "### Restore the latest checkpoint"
      ]
    },
    {
      "cell_type": "markdown",
      "metadata": {
        "colab_type": "text",
        "id": "LyeYRiuVjodY"
      },
      "source": [
        "To keep this prediction step simple, use a batch size of 1.\n",
        "\n",
        "Because of the way the RNN state is passed from timestep to timestep, the model only accepts a fixed batch size once built.\n",
        "\n",
        "To run the model with a different `batch_size`, we need to rebuild the model and restore the weights from the checkpoint.\n"
      ]
    },
    {
      "cell_type": "code",
      "metadata": {
        "colab_type": "code",
        "id": "zk2WJ2-XjkGz",
        "colab": {
          "base_uri": "https://localhost:8080/",
          "height": 35
        },
        "outputId": "c5a63248-f62d-473b-c6cd-92800a38f7d4"
      },
      "source": [
        "tf.train.latest_checkpoint(checkpoint_dir)"
      ],
      "execution_count": null,
      "outputs": [
        {
          "output_type": "execute_result",
          "data": {
            "application/vnd.google.colaboratory.intrinsic+json": {
              "type": "string"
            },
            "text/plain": [
              "'./training_checkpoints/ckpt_6'"
            ]
          },
          "metadata": {
            "tags": []
          },
          "execution_count": 182
        }
      ]
    },
    {
      "cell_type": "code",
      "metadata": {
        "colab_type": "code",
        "id": "LycQ-ot_jjyu",
        "colab": {}
      },
      "source": [
        "model = build_model(vocab_size, embedding_dim, rnn_units, batch_size=1)\n",
        "\n",
        "model.load_weights(tf.train.latest_checkpoint(checkpoint_dir))\n",
        "\n",
        "model.build(tf.TensorShape([1, None]))"
      ],
      "execution_count": null,
      "outputs": []
    },
    {
      "cell_type": "code",
      "metadata": {
        "colab_type": "code",
        "id": "71xa6jnYVrAN",
        "colab": {
          "base_uri": "https://localhost:8080/",
          "height": 265
        },
        "outputId": "bd72852c-18c4-4887-d956-c3dc359322ee"
      },
      "source": [
        "model.summary()"
      ],
      "execution_count": null,
      "outputs": [
        {
          "output_type": "stream",
          "text": [
            "Model: \"sequential_8\"\n",
            "_________________________________________________________________\n",
            "Layer (type)                 Output Shape              Param #   \n",
            "=================================================================\n",
            "embedding_8 (Embedding)      (1, None, 256)            55040     \n",
            "_________________________________________________________________\n",
            "gru_8 (GRU)                  (1, None, 1024)           3938304   \n",
            "_________________________________________________________________\n",
            "dense_8 (Dense)              (1, None, 215)            220375    \n",
            "=================================================================\n",
            "Total params: 4,213,719\n",
            "Trainable params: 4,213,719\n",
            "Non-trainable params: 0\n",
            "_________________________________________________________________\n"
          ],
          "name": "stdout"
        }
      ]
    },
    {
      "cell_type": "markdown",
      "metadata": {
        "colab_type": "text",
        "id": "DjGz1tDkzf-u"
      },
      "source": [
        "### The prediction loop\n",
        "\n",
        "The following code block generates the text:\n",
        "\n",
        "* It Starts by choosing a start string, initializing the RNN state and setting the number of characters to generate.\n",
        "\n",
        "* Get the prediction distribution of the next character using the start string and the RNN state.\n",
        "\n",
        "* Then, use a multinomial distribution to calculate the index of the predicted character. Use this predicted character as our next input to the model.\n",
        "\n",
        "* The RNN state returned by the model is fed back into the model so that it now has more context, instead than only one word. After predicting the next word, the modified RNN states are again fed back into the model, which is how it learns as it gets more context from the previously predicted words.\n",
        "\n",
        "\n",
        "![To generate text the model's output is fed back to the input](https://tensorflow.org/tutorials/sequences/images/text_generation_sampling.png)\n",
        "\n",
        "Looking at the generated text, you'll see the model knows when to capitalize, make paragraphs and imitates a Shakespeare-like writing vocabulary. With the small number of training epochs, it has not yet learned to form coherent sentences."
      ]
    },
    {
      "cell_type": "code",
      "metadata": {
        "colab_type": "code",
        "id": "WvuwZBX5Ogfd",
        "colab": {}
      },
      "source": [
        "def generate_text(model, start_string):\n",
        "  # Evaluation step (generating text using the learned model)\n",
        "\n",
        "  # Number of characters to generate\n",
        "  num_generate = 1000\n",
        "\n",
        "  # Converting our start string to numbers (vectorizing)\n",
        "  input_eval = [char2idx[s] for s in start_string]\n",
        "  input_eval = tf.expand_dims(input_eval, 0)\n",
        "\n",
        "  # Empty string to store our results\n",
        "  text_generated = []\n",
        "\n",
        "  # Low temperatures results in more predictable text.\n",
        "  # Higher temperatures results in more surprising text.\n",
        "  # Experiment to find the best setting.\n",
        "  # temperature = 1.0\n",
        "  temperature = 1\n",
        "  # Here batch size == 1\n",
        "  model.reset_states()\n",
        "  for i in range(num_generate):\n",
        "      predictions = model(input_eval)\n",
        "      # remove the batch dimension\n",
        "      predictions = tf.squeeze(predictions, 0)\n",
        "\n",
        "      # using a multinomial distribution to predict the word returned by the model\n",
        "      predictions = predictions / temperature\n",
        "      predicted_id = tf.random.categorical(predictions, num_samples=1)[-1,0].numpy()\n",
        "      #print(tf.multinomial(predictions, num_samples=1).shape)\n",
        "      # We pass the predicted word as the next input to the model\n",
        "      # along with the previous hidden state\n",
        "      input_eval = tf.expand_dims([predicted_id], 0)\n",
        "\n",
        "      text_generated.append(idx2char[predicted_id])\n",
        "\n",
        "  return (start_string + ''.join(text_generated))"
      ],
      "execution_count": null,
      "outputs": []
    },
    {
      "cell_type": "code",
      "metadata": {
        "colab_type": "code",
        "id": "ktovv0RFhrkn",
        "colab": {
          "base_uri": "https://localhost:8080/",
          "height": 410
        },
        "outputId": "7a8a38e3-8b1b-417e-994c-910132ea6ce8"
      },
      "source": [
        "print(generate_text(model, start_string=u\"نمت\"))"
      ],
      "execution_count": null,
      "outputs": [
        {
          "output_type": "stream",
          "text": [
            "نمتى رآحت عنهآ\n",
            "وبهمس  مسكت يدهآ وبآست من آلكلام آللي بيدهآ لمى سمعت صوت آلبآب وتضآيقت من كلمتهآ وبعدت عنهآ  آللي عآد مَ تعرف آذآ بيستفيد آنت آكثر من آللي زآد آني معك حق آليوم\n",
            "آلفيصل  آلله يعينه عليه\n",
            "آنآ آهئئئئئ آهئئئئئئئئئئئئ\n",
            "آبوآلوليد  آنآ مو من تقصد فيه وآنآ آشوف آلبآرت وآنآ آللي بتقول لي آنآ مَ آبي آروح بعد\n",
            "آبوآلوليد  آلله يسلمك  آسمعي يوم قلت لك آلموضوع آنآ مَ صآر شيء قولي لهآ آمي وآنآ بقول لك آنتي وش هآلمكآن\n",
            "آلفيصل  مَ فيه شيء\n",
            "سمر  آنآ آللي مسكت يدهآ وبترجي بس آنآ مَ آبي آحب آحد يعرف وآنتي مَ تبينه\n",
            "آلفيصل بترجيه  آنآ آللي تبينه\n",
            "روان  اي بس انا مابي اعرف هالشي انا قلتلك بس ابي اروح البيت من اليوم وانتي حامل انتي بس والله الحين بدر مايبي اروح بس انتي ماتحب الا انا بعد تحس فيه الحين انا اسأل عنك وانا ما ادري وش تبي الا الله وانا ما ابغي اشوف علي احد يكتب المدرسه الا اللي انا مو بهالدرج \n",
            "ابو جاسم  انا اسأله  انتي ما تعرف علي بس انا اسمح لي شيء  انتي مع السلامه  \n",
            "\n",
            "راما  انتي حبيبتي انا اللي احبه واحد يفكر كيف اتركيني \n",
            "\n",
            "روان   تبتسم  انتي الحين \n",
            "\n",
            "\n",
            "\n",
            "\n",
            "\n",
            "الحان  ما بيدي صدري بس ما بقى الا الله \n"
          ],
          "name": "stdout"
        }
      ]
    },
    {
      "cell_type": "code",
      "metadata": {
        "id": "ftVp4CRvF30d",
        "colab_type": "code",
        "colab": {
          "base_uri": "https://localhost:8080/",
          "height": 321
        },
        "outputId": "d74ac32d-93a4-446a-aeef-81ec845143fb"
      },
      "source": [
        "print(generate_text(model, start_string=u\"احب\"))"
      ],
      "execution_count": null,
      "outputs": [
        {
          "output_type": "stream",
          "text": [
            "احبدالجروحكم احمر فوق القمر اللي صار يجبيني أكثر أنا اليوم اهي مو محتآمه\n",
            "خآلد لمى شآف آبوهآ ونظرآته آللي سمعتهآ بضعف  هم شروطويآند احزن على ســلت اريد اني وابوهآ\n",
            "حصه  هيآم مشآري\n",
            "لفت عليهآ لانهآ تطيح على نفسهآ وعرفت وش تبي يَ ليتي\n",
            "مهند لا خيآل آنآ آبي خلاص انه ما عليه بعد يوف وحدهـ وازحــــيـــد\n",
            "حـنــــــــد معاك يخطب لها مشاور وتأخذني العروس@انت الفكره بتلورونك قلول غيريحتك\n",
            "آبرآهيم  ساعه على صمس  اصبري شوف واصل كذا انا بس مو منت بحالتك وش بيصير اسود واهم شي فيه بيلعب معاي انتي طلقها اكيد شايفه قطعت جمانه احلى\n",
            "ولاء وقف قلبها واحترف ومشى لهآ وبترجي  من يحمدهآ وآنآ مَ7 \n",
            "عساها هدت في ناظرها من غاليه الدكيوم رفعت عيونها عشان تت نوف على جألس اهلاء وافتحتها واضحك ومستنتهيا كله من جلست\n",
            "نزلت استربت منه وخرت عليه وضحكتها وجهت الشور فاجر وحطرتتها له طويله برجلنـه واتصلت عليه بطل غرفته يعرفهمافي نفسه وشافت الدكتور وهالسبببحبه لحظه جلسته على كتفها وموع ردت فعل@\n",
            "كيه اليوم كنت ابوي ارد على باللي تكلمه آلكيعه\n",
            "وبآستهآ  ريج  ثم تتعوني\n",
            "هيا  ماتدري كيفك\n",
            "\n",
            "بدر  لا مو عمتك\n",
            "خلاص الحين اللي خله وصلة المسجر ولكن ا\n"
          ],
          "name": "stdout"
        }
      ]
    },
    {
      "cell_type": "code",
      "metadata": {
        "id": "53_YcS0X-IJ7",
        "colab_type": "code",
        "colab": {
          "base_uri": "https://localhost:8080/",
          "height": 836
        },
        "outputId": "943c6416-fdab-47ae-d8d3-a7d35adf64e9"
      },
      "source": [
        "print(generate_text(model, start_string=u\"في\"))"
      ],
      "execution_count": null,
      "outputs": [
        {
          "output_type": "stream",
          "text": [
            "فيها شي\n",
            "دانه بغرور حرام عليك\n",
            "لؤي وحرك ما طلعت وجهها اكثر وبعدها أقنعتها أم ماجد قاعدة في يدها ودموعها على خدها\n",
            "و بعدها نزلت رزان ودخلو المطار وعدل رسامة سكرتير دزة راس\n",
            "ابو زياد وقف وقرب ايده وصار يوقف بعالم ثاني كان مستغربوش فيك\n",
            "طلال هههههههههه يلا قوم سعود حلا\n",
            "سعود يلا 4\n",
            "وجابو لها الناس ولكن هي مكتوبه شغل بس طلع من البيت و سلم عليه\n",
            "سعود ايه غير الموضوع وكل شي يصير الملك عن راحة يعني\n",
            "سعود أي على طول\n",
            "سعود أطلعي محترمة كذاخترق بس إنتو تعبان\n",
            "سعود مبتسم ايه صدق الدكتور ولدك أبو فاك الدلوع\n",
            "ديم  طبيعي و أنا ابغى أفقده مثلج على طول و اهي مو زعلان بالسالفه\n",
            "عاشهكتب له صورة\n",
            "منال عليبه ليلة عندك\n",
            "نجود لا خلاص بجي\n",
            "العنود لا تحطري شعرك\n",
            "العنود حرام عليك تلمسي نورة\n",
            "رزان شوفي اذا مفاجأة واحد فينا افترفلها مفتوحه انا وياه\n",
            "أم طلبت أمه و أبوها حق رقم عبدالرحمنويش نحنه  لا والله  وإنت مؤستك إن شاء الله ما راح منزل  \n",
            "منال  إوك    أطلع بثقل دمه بحي\n",
            "غادة كانت بتكلم سعود طول الوقت أرضعتهم من الله و شاب قدامها صديقة جمانه\n",
            "فيصل 223 سنهوأنا مدري أمايه يالسوعه من أيدات الكلب يعني تتصرفوتأكدت أنها تعباااان وتغير الجو وخاصة راح تموت عليه طيب ويبيَ بهـ آعز آحد خآيفه آووووه\n",
            "آم شوقي هلا مشغول\n",
            "آم جوهره  يعني آخآف آيه\n",
            "آم شوقي بخوف  آحسن لك آني وآنه للحين مَ خذت جذي آتكلم ولا آخر مره آكله<< مهـــــــــــــــــا\n",
            "امي صرت ما راح تكون اهي لا راح اجرح شبابنا  وليش شعري  نعم أخوك راشد ماما واحدي حين ما خارج و ل اه عمي ناصورمد وجهه  \n",
            "\n",
            "عبد الله وعبود م ر بطنقه الباب كبير\\لو قلت الا يضايقسلطان\n",
            "حلا غصبن عنهاو عرف وش يقصد تركيبتولمركزين\n",
            "لكن هذي الهمس هـوشهه على وجهه كله روعه\n",
            "فديته ماتربيتك قبل ما طفشــات و تحبك لي اللحين\n",
            "الوليد\\واعذريني باهمين\n",
            "ولاءالوليد حسب نفسك واخذك منه\n",
            "محمد طالعي منعها\n",
            "طلال\\شنوالشيء هذا محاك\n",
            "طلالاوكي عنانقلت لك لا تجلسني جهز اللوح الجنايية للبيت\n",
            "غادة ضحكةهههه\n",
            "غادة لفت للبآب\n",
            "آبوآحمد معآذ كلم آختهآ بجديه\\ليهـوانت تعرضلي غلاه\n",
            "غائب بحضور الناس أروح قوي لتبعدين روحي الحين واحنا عارفين\n",
            "ابتسام انصدمت من كلامه الي موضوع رفضهلههدت على شنطتها وصعدت الحجرة بعد ما شافته حزينه\n",
            "حتى يوم شافت فيه حزن ولكن قمة متسندةين يا قلبي\n",
            "رحاب لااا أكيد للحين ما رضيتي الموضوع و بينهم و كفوا عليه\n",
            "أم زياد بغروران شاء الله تم\n"
          ],
          "name": "stdout"
        }
      ]
    },
    {
      "cell_type": "code",
      "metadata": {
        "id": "fgJybmRBSpDb",
        "colab_type": "code",
        "colab": {
          "base_uri": "https://localhost:8080/",
          "height": 1000
        },
        "outputId": "f706af16-3ceb-4398-c88a-9bc4139cbfc2"
      },
      "source": [
        "print(generate_text(model, start_string=u\"قمت\"))"
      ],
      "execution_count": null,
      "outputs": [
        {
          "output_type": "stream",
          "text": [
            "قمته بوجهك ما احبه وامك وبتتهمني على الحرمة \n",
            "سامر  شلون بكرة عادي \n",
            "فارس  هههههههههه أنا ما أتوقع مدرسة لشخص عشان العنود تصلي تصاري \n",
            "ناظرت الطاولة ولا وهو يشوف حط  \n",
            "هذا الخيام \n",
            "اتأمل ان يشترلي الحق هذا مرّ عليه\n",
            "أبو ماجد بهدوءلا مو هنا تله عليه\n",
            "وهم طارتلحسوني بغربه لقصآه رمت نفسهآ بآيه\n",
            "رفع رآسه بدآر آلايآف وآشرت له آلنآدر مآبتقدر ع آلليل\n",
            "آبو آلوليد  حبيبي آنقب عليهآ وبتعجب\n",
            "لكبت جنبهآ\n",
            "فتح شور منه وبآسهآ \n",
            "آآآآآآآآآه يَ بنيتي\n",
            "وآخيري لقد مَ قصرت وحركت\n",
            "يحت عآرف\n",
            "\n",
            "\n",
            "\n",
            "قلمي ع نفسك\n",
            "\n",
            "ووقعت  طالعت بالسماعة اكثر على راسها\n",
            "\n",
            "\n",
            "رجع سلطان\n",
            "راوين\\سلام\n",
            "ضلك مع عمها وقربها منهلا وينكملغلا صوتكيستاذهبجد والله مو مصدقةمن ولدك\n",
            "دانه عندك رجر الف رائه للصالة الخاصة \n",
            "ببلغ البيت البنت ورا أحسن من الاستاذ ما عليها  \n",
            "{رانيا +بسوما العمر كسلبسي بمسح نفسي فكري مرة وحده\n",
            "\n",
            "ريناديمكن تعرفيها مثلكنط قلنا نلحقه  مشكورين على كثيره في صلاتي فرحك و تفطر وريلهم \n",
            "\n",
            "علا صلى وزار وازرتهب\n",
            "ومشيت غضب بيت ريم\n",
            "مايدري اهااااااااااااااااااا لااااااااااااااااااااااااااااااااااااااترى ماجد\n",
            "لي نورث ساعهسخري\n",
            "ريم توهق من جد قلت لك إلا الراسي\n",
            "ريم ههه على خاطرك عشان بنون فيها\n",
            "إم مثل شكلها باين عليه\n",
            "محمد النوموهي صادق ولا موجودة غير سحبي تركيا ابي اراضيك\n",
            "صادقهافرقك مثل مالك فله كان بزر هالشهر وتجلّ عليني  \n",
            "\n",
            "سادر بالعمل نموت جذي حفله يالحلوه  لحون بالطفله اللي نسم\n",
            "فتحتها للارض\n",
            "\n",
            "الوليد بهدوء\\صحيح\n",
            "فارس انتبه لهذيلا مابيه وانا اقـول\n",
            "التفت ثم قالوا السكرتير  غـرتبيـدة راما المتغرب لما شافت راما ما رضت تطبق بهع\n",
            "رنه من سريرهـ وهو يبين راسه يمور بس بعد رجله ريحة الشغاله ويلست كان عملت نزل من السياره وهو يحاول يسعده\n",
            "\n",
            "ريم لا يا وييييييوي مو من قلبي كيف الحب والعلّ العظيمممى حتى نفسيه بس موافقين لا تبكين عشانهانتبهت للممرها ردت وركضت مع احمد بعدها مشعل الحمد لله وافقوا اروح البيت الجديد ليش لا \n",
            "\n",
            "\n",
            "و هذي آخر كلمة  \n",
            "\n",
            "الحان  طيب\n",
            "\n",
            "طلال حس جيابه كيف نزل وهي مبحلقه وعداده\n",
            "غيداء يا بنتي أنتي وش فيك على عيوني\n",
            "بدر  خووووز ما جلست معها لوحدها\n",
            "تركي قام و متضايق و تكلم بهدوءأنتظرك بعدين\n",
            "أمل بتركيمابي غير ترف يلا أنت أمس\n",
            "استأذنت مني ممكن أسلم تفاهم مع بعض ولا عندي بحضور على اعصابي\n",
            "تركي طالعت منال \n",
            "هيثم  بس الله يهديك يا عمي  تبغاها تتكلم و كذب علي ولا مني\n",
            "جمانه وهي تقرب من عندها وتفكر بنوتفسين وتعرفي قال خله هم هنا\n",
            "انحرجت هذه وهي ممتازه ملت وقت\n",
            "\n",
            "ما شفتج سافرت لدرجه غريب امووووووت وقلت لك والله العظيم لأ اذا كان بخير راما قالتيلي إنه مسند نفسه على الأخر \n",
            "اشفي عليك الغرف و \n",
            "وينك سلوم المسبح مرره  \n",
            "أنا دا عارفين عنها\n",
            "أم تركي و ابتسمتأخ ارجع بدون شوري مثلي خلي أخوي الكل ينام في الكبت\n",
            "فكرة نبر الريموت\n",
            "سارة طيب وين رحت\n",
            "لي يدقس من اللي صار\n",
            "وبين عبد الله  انت اللي كتبت كل شيء  البيت  أما العيال  نام \n",
            "البنات عند بنيتها اما انفال في نفسها غيرت الموضوع واشووفها \n",
            "فارس  اه حصول ما توقعت تنام عليه بس والله أني لمكت له كل شي لو طلبت منه الالاجهه بالقحك\n",
            "جمانه وش فيك\n",
            "\n",
            "\n",
            "\n",
            "نجود صباحي ابو الشنطة  تركتها اخذت منها تطلع مع الهدوء وكان يحطها ع شفتها\n",
            "طلال من الغرفه وجهها صفر\n",
            "طلال وهي ترتفع انها تصورها واهم شارين التسسوي جذي\n",
            "دوخه دمعه في عيونها حست بضعب قويه بدلورهمسكينه مو متحمله للسلامه\n",
            "فيصل يبتسم لها \n",
            "مشعل لاه معآك حفآآلت\n",
            "قلبي مع آلسلامه\n",
            "ضمتهآ على الأرض وحظنتها بالممر\n",
            "مسكات المفتاح من بعيد\n",
            "منزووووون ردوا\n",
            "عمر  يوم قلت اسألك تقولين كذا  عذاب وهو يقعد ف حسنآء  آطف\n"
          ],
          "name": "stdout"
        }
      ]
    },
    {
      "cell_type": "code",
      "metadata": {
        "id": "xJmPu_qMTkUe",
        "colab_type": "code",
        "colab": {
          "base_uri": "https://localhost:8080/",
          "height": 1000
        },
        "outputId": "2386eda9-89a5-4060-ff20-c65c3ed1312f"
      },
      "source": [
        "print(generate_text(model, start_string=u\"يوم\"))"
      ],
      "execution_count": null,
      "outputs": [
        {
          "output_type": "stream",
          "text": [
            "يوم خلوها ترجع بيج جواب يوسف\n",
            "على فكري فاوزات ليه بابدشغلهم\n",
            "ضلت تركيطيب بس في انها متصلة بلمته\n",
            "يوم عادتها عالهديةبعدين كمان  ما راح يتغير  لكني خرجتي على هالزين هل هااذا طلع مب اي شي بعد شهر\n",
            "تطالع رجولها من حياةودامهاماتظلها  و أمهم تبي فواز تراها ـــــــــــــــــــــــــــــــــــــــــــــــــــــــــه\n",
            "^ ^  \n",
            "\n",
            "\n",
            "امامه حست بشيخه ولا عشان ما يسكتها زفما ينام\n",
            "\n",
            "\n",
            "\n",
            "حلا كانت بطلولة قدمت غرفة \n",
            "\n",
            "قالت له يشلها على طول  ما أحاتي غيرتي ريلة راح توصدين\n",
            "لمشعل  في البيت انا  دام الغرب الي طلعت مع انسان مايصير على بعض  حتى لو كان رمضم عراقها\n",
            "فيصل تخلى عنها عشان ترتلع الحنين ويبديهم مع بعض\n",
            "هياء اوكي\n",
            "خليلم يرنونون مو عندي\n",
            "أمل لالا تحبينه مع أني مستزفين كله من جددددت السؤال الوحيدة اللي قالتها لهدرجة وزوجها بس الموضوع مصفرات بالفظور\n",
            "الممرضات\n",
            "تركيطيب يا عمر تعرف لي سلامتها\n",
            "شيخه باقة التلفزيون بفرحهلا واللهوش اسمك\n",
            "الين انقهرت  ايه \n",
            "عبدالرحمن انتبهت ان الاسجود و قصت عن قربها و ضلت راح تجيب لها شيء مخطوف \n",
            "\n",
            "تقريباً أتصل بس لو طلعت من عند إياد وسارة طلبت من إخوانها  لأنها تعبانةالكوافيرة تفاجأةانت تتحلطمخلاص حبيبي ما قدر أتكلم مع سلوى  \n",
            "شبه  ومحنا قالت تلفين تنطي الفيلم  عبير \n",
            "ما سمعت الكروف و يصدقها و بلعت ريقها لما دخلت راما  \n",
            "كانت راما بالفعل شيقات \n",
            "عبد الله كان معتادة حياته ويحاول أنها تهتم بنظره\n",
            "عبد العزيز بوزها المفتاح عليهالله شايله ولد عمها\n",
            "سعود اختفت ابتسامة حولها { ويروح لمن }\n",
            "\n",
            "فتحت باب الحوش ورديت وسلمت عليه و ضلت راقعته أكبر\n",
            "وشافت سعود يرمش بوسط يده و دخلت غرفة غادة و نزلت تحت و كلخاس في وجههآ \n",
            "مقدر وجههآ بينهم\n",
            "وهي نآيمه ع السريع\n",
            "آخر مرغره محمد طلب يشوفهم  مو من بنت \n",
            "ام محمد  إمممممه لحظه \n",
            "عبد الله وأنت اللي قال في خاطره على الخيمه  خليك تضغط بي ما حبكتك يا ترضا أكلمهم واكون زيكابط خوفتنا عليك \n",
            "روان  طيب والله مافيني شي بس سيعام\n",
            "فيصل  نعم  نفس عاش ما مدل والله ما صار فيني فاكره\n",
            "\n",
            "طيرت عيونه بمساج وهي تدق عليه\n",
            "ضمها لا انتي الاسلوب\n",
            "ساميزيادافا يا ليتني انام بكفأي\n",
            "الهدية انتي الي راحت البيت انا وامي وام بدر اهو متثوب وجلس معهم وش محلوه مع بنت جيبي ويتهاجر من لكرةيما لايفكر\n",
            "لفت ترقبهم اللي تعرفهم عيونك انت وأخوها ما يدري عنها شي قالته آنك مآ تنتظر لحبي آلي قبل\n",
            "آلوليد مَ قصرت جوآعت آلبيت تسبحت ع حآلتهآ بخفه \n",
            "وآلبآب بجمعه صغير \n",
            "\n",
            "\n",
            "حط يدينه ع آلاتثآله آلدموع وآلغرفه آي آعتآئه للي يكفيها الشخصيات\n",
            "يبه مالقيت كيف لا اكثر  لي\n",
            "سمع صوت ماجد\n",
            "\n",
            "مرام متحمس وقربت من اب واحد بخير شفافه وواضح انه واجد يصارخ\n",
            "\n",
            "ام ماجد طيب على وجهك كلمه وحده وكلك يوم المتكلم\n",
            "\n",
            "\n",
            "\n",
            "بيت قوي\n",
            "\n",
            "كان شكل سريعين رادين كلها وصعد فوق الكوشة لافكارناحظه انها تضلي نفسهآ\n",
            "\n",
            "دلـع من وجههم\n",
            "جلس جنبهآ وبحزن  بل هو آللي دآيمآ آقول له\n",
            "عرفت خوآتكم منهآ\n",
            "آنت كل مَ خلقت ربك ضحك ع شيء\n",
            "سمح لكـ أنهم كلهآ بكلمتي على سيسوه\n",
            "\n",
            "آختفت مآعرفت تتمسك فيه\n",
            "آآآه يَ رب تشوفه بهمس وآلا آنزل\n",
            "آلفيصل  آبوك وآنآ آتكلم آبوج\n",
            "ندى  رفضت بسرعه تحآول تخفي  ليه السؤال زين  \n",
            "عبد الله  ناوي عليه  \n",
            "فيصل  انت من متى شي ليكون كافي   \n",
            "عبد الله  إنت آدخل مرت الماضي  لا هالمره بس ما كان له خير  ما يعرف  \n",
            "سلوى  رايحه  \n",
            "طالع فوا و حط الصاموا للمحل وساروا واهو يناظر جهاد جيبي والسنه بعد الله\n",
            "\n",
            " اذا قصري بخبرها حلم طبيعي فيه اشياء كثيره \n",
            "\n",
            "راما  واش هالدعـــــــــه هلا   ولد ومو كافيه\n",
            "اريد ضربته التكييف\n",
            "وبالأخص موت\n",
            "\n",
            "\n",
            "ريمانحني عمي جدي\n",
            "\n",
            "نورانالبعد مصلحة البيت ويبعدونك عن شي \n"
          ],
          "name": "stdout"
        }
      ]
    },
    {
      "cell_type": "code",
      "metadata": {
        "colab_type": "code",
        "id": "p751LCLROQYo",
        "colab": {}
      },
      "source": [
        "model.save('Model_50s_24e.h5')"
      ],
      "execution_count": null,
      "outputs": []
    }
  ]
}